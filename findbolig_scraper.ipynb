{
 "cells": [
  {
   "cell_type": "code",
   "execution_count": 14,
   "metadata": {},
   "outputs": [
    {
     "data": {
      "text/plain": [
       "'https://www.findbolig.nu/da-dk/find?Commune=Frederiksberg&Rooms=2&City=København+Ø,København+V,København+K,København+N&AvailableFrom=1&Rent=11000'"
      ]
     },
     "execution_count": 14,
     "metadata": {},
     "output_type": "execute_result"
    }
   ],
   "source": [
    "def build_listings_url(communes : list, \n",
    "                       cities : list, \n",
    "                       rooms : int, \n",
    "                       available_from : int,\n",
    "                       maximum_price : int):\n",
    "    base_url = \"https://www.findbolig.nu/da-dk/find?\"\n",
    "    \n",
    "    commune_string = f\"{','.join(commune.replace(' ', '+') for commune in communes)}\"\n",
    "    cities_string = f\"{','.join(city.replace(' ', '+') for city in cities)}\"\n",
    "    base_url = f\"https://www.findbolig.nu/da-dk/find?Commune={commune_string}&Rooms={rooms}&City={cities_string}&AvailableFrom={available_from}&Rent={maximum_price}\"\n",
    "\n",
    "    return base_url\n",
    "build_listings_url([\"Frederiksberg\"],\n",
    "                   [\"København Ø\", \"København V\", \"København K\", \"København N\"],\n",
    "                   2,\n",
    "                   1,\n",
    "                   11000)"
   ]
  },
  {
   "cell_type": "code",
   "execution_count": 7,
   "metadata": {},
   "outputs": [],
   "source": [
    "import json\n",
    "import time\n",
    "\n",
    "import requests\n",
    "from bs4 import BeautifulSoup\n",
    "from selenium import webdriver\n",
    "from selenium.webdriver.firefox.options import Options\n",
    "from selenium.webdriver.support.ui import WebDriverWait\n",
    "\n",
    "from utils import scrape_and_soupify\n",
    "\n",
    "\n",
    "def init_browser_and_scrape(url):\n",
    "    firefox_options = Options()\n",
    "    firefox_options.add_argument(\"--headless\")  # Run Firefox in headless mode\n",
    "\n",
    "    driver = webdriver.Firefox(options=firefox_options)\n",
    "    driver.get(url)\n",
    "\n",
    "    # driver.implicitly_wait(10)  # Wait for up to 10 seconds for the page to load\n",
    "    wait = WebDriverWait(driver, 10)\n",
    "\n",
    "    # Get the page source after the dynamic content has loaded\n",
    "    html_content = driver.page_source\n",
    "\n",
    "    # Parse the HTML content using BeautifulSoup\n",
    "    soup = BeautifulSoup(html_content, \"html.parser\")\n",
    "    return soup\n",
    "\n",
    "soup = init_browser_and_scrape(\"https://www.findbolig.nu/da-dk/find?Commune=K%C3%B8benhavn\")\n",
    "\n",
    "property_types = soup.find_all('div', {'class': 'property-card__spec', 'data-v-0133c15e': True})"
   ]
  },
  {
   "cell_type": "code",
   "execution_count": 6,
   "metadata": {},
   "outputs": [
    {
     "name": "stdout",
     "output_type": "stream",
     "text": [
      "095bc107-7480-4a33-962d-fbd115d486b1\n",
      "https://www.findbolig.nu/api/data/applications/residences/095bc107-7480-4a33-962d-fbd115d486b1\n",
      "\"Disabled\"\n",
      "Message send succesfully!\n"
     ]
    }
   ],
   "source": [
    "email = \"frederikpwr@gmail.com\"\n",
    "password = \"hThfjwd$PZw^78\"\n",
    "\n",
    "def get_property_id(apt_url):\n",
    "    soup = scrape_and_soupify(apt_url)\n",
    "    property_id = soup.find('div', class_='c-property').get('id')\n",
    "    return property_id\n",
    "\n",
    "def request_apt_viewing(apt_url, email, password):\n",
    "    front_url = \"https://www.findbolig.nu\"\n",
    "    login_url = \"https://www.findbolig.nu/api/authentication/login\"\n",
    "    cookie_url = \"https://consent.app.cookieinformation.com/api/consent\"\n",
    "\n",
    "    property_id = get_property_id(apt_url)\n",
    "    print(property_id)\n",
    "    request_url = f\"https://www.findbolig.nu/api/data/applications/residences/{property_id}\"\n",
    "    print(request_url)\n",
    "    with requests.Session() as s:\n",
    "        r = s.get(front_url) # load front page\n",
    "\n",
    "        r = s.post(cookie_url,\n",
    "                    data={\"website_uuid\":\"1ac987a3-74b6-49b5-8c59-991f552c1355\",\n",
    "                        \"timestamp\":\"2024-04-25T09:46:01.048Z\",\n",
    "                        \"consent_url\":\"https://www.findbolig.nu/\",\n",
    "                        \"consent_website\":\"fbn5prod.deas.dk\",\n",
    "                        \"consent_domain\":\"www.findbolig.nu\",\n",
    "                        \"user_uid\":\"b9f79c2e-9562-42f6-ae2e-cde16f0acd61\",\n",
    "                        \"consents_approved\":[\"cookie_cat_necessary\"],\n",
    "                        \"consents_denied\":[\"cookie_cat_functional\",\"cookie_cat_statistic\",\"cookie_cat_marketing\",\"cookie_cat_unclassified\"],\n",
    "                        \"user_agent\":\"Mozilla/5.0 (X11; Linux x86_64; rv:125.0) Gecko/20100101 Firefox/125.0\"})\n",
    "\n",
    "        r = s.post(login_url,\n",
    "                    data={\"email\": email,\n",
    "                        \"password\": password,})\n",
    "\n",
    "        r = s.post(request_url)\n",
    "        print(r.text)\n",
    "        # r = s.delete(request_url) # delete application\n",
    "        \n",
    "    if r.status_code == 200:\n",
    "        if r.text == \"Cancel\":\n",
    "            print(\"Succesfully requested an apartment viewing .\")\n",
    "        elif r.text == \"Apply\":\n",
    "            print(\"Succesfully cancelled apartment viewing request.\")\n",
    "        elif r.text == \"Disabled\":\n",
    "            print(\"Apartment viewing are not enabled for the giving apartment.\")\n",
    "        else:\n",
    "            print(\"Unknown response.\")\n",
    "    else:\n",
    "        raise ConnectionError(f\"Could not connect to Findbolig to {apt_url}.\")\n",
    "\n",
    "request_apt_viewing(\"https://www.findbolig.nu/da-dk/residence/92082\", email, password)\n",
    "\n"
   ]
  },
  {
   "cell_type": "code",
   "execution_count": 6,
   "metadata": {},
   "outputs": [
    {
     "name": "stderr",
     "output_type": "stream",
     "text": [
      "/bin/sh: line 1: chromium: command not found\n",
      "/bin/sh: line 1: chromium-browser: command not found\n",
      "/bin/sh: line 1: chromium: command not found\n",
      "/bin/sh: line 1: chromium-browser: command not found\n"
     ]
    },
    {
     "ename": "AttributeError",
     "evalue": "'NoneType' object has no attribute 'split'",
     "output_type": "error",
     "traceback": [
      "\u001b[0;31m---------------------------------------------------------------------------\u001b[0m",
      "\u001b[0;31mAttributeError\u001b[0m                            Traceback (most recent call last)",
      "Cell \u001b[0;32mIn[6], line 7\u001b[0m\n\u001b[1;32m      4\u001b[0m \u001b[38;5;28;01mfrom\u001b[39;00m \u001b[38;5;21;01mwebdriver_manager\u001b[39;00m\u001b[38;5;21;01m.\u001b[39;00m\u001b[38;5;21;01mchrome\u001b[39;00m \u001b[38;5;28;01mimport\u001b[39;00m ChromeDriverManager\n\u001b[1;32m      5\u001b[0m \u001b[38;5;28;01mfrom\u001b[39;00m \u001b[38;5;21;01mwebdriver_manager\u001b[39;00m\u001b[38;5;21;01m.\u001b[39;00m\u001b[38;5;21;01mcore\u001b[39;00m\u001b[38;5;21;01m.\u001b[39;00m\u001b[38;5;21;01mos_manager\u001b[39;00m \u001b[38;5;28;01mimport\u001b[39;00m ChromeType\n\u001b[0;32m----> 7\u001b[0m driver \u001b[38;5;241m=\u001b[39m webdriver\u001b[38;5;241m.\u001b[39mChrome(service\u001b[38;5;241m=\u001b[39mChromiumService(\u001b[43mChromeDriverManager\u001b[49m\u001b[43m(\u001b[49m\u001b[43mchrome_type\u001b[49m\u001b[38;5;241;43m=\u001b[39;49m\u001b[43mChromeType\u001b[49m\u001b[38;5;241;43m.\u001b[39;49m\u001b[43mCHROMIUM\u001b[49m\u001b[43m)\u001b[49m\u001b[38;5;241;43m.\u001b[39;49m\u001b[43minstall\u001b[49m\u001b[43m(\u001b[49m\u001b[43m)\u001b[49m))\n\u001b[1;32m      9\u001b[0m \u001b[38;5;66;03m# driver = webdriver.Chrome()\u001b[39;00m\n\u001b[1;32m     10\u001b[0m driver\u001b[38;5;241m.\u001b[39mget(\u001b[38;5;124m\"\u001b[39m\u001b[38;5;124mhttps://www.google.com/\u001b[39m\u001b[38;5;124m\"\u001b[39m)\n",
      "File \u001b[0;32m~/anaconda3/envs/web-scraper/lib/python3.12/site-packages/webdriver_manager/chrome.py:40\u001b[0m, in \u001b[0;36mChromeDriverManager.install\u001b[0;34m(self)\u001b[0m\n\u001b[1;32m     39\u001b[0m \u001b[38;5;28;01mdef\u001b[39;00m \u001b[38;5;21minstall\u001b[39m(\u001b[38;5;28mself\u001b[39m) \u001b[38;5;241m-\u001b[39m\u001b[38;5;241m>\u001b[39m \u001b[38;5;28mstr\u001b[39m:\n\u001b[0;32m---> 40\u001b[0m     driver_path \u001b[38;5;241m=\u001b[39m \u001b[38;5;28;43mself\u001b[39;49m\u001b[38;5;241;43m.\u001b[39;49m\u001b[43m_get_driver_binary_path\u001b[49m\u001b[43m(\u001b[49m\u001b[38;5;28;43mself\u001b[39;49m\u001b[38;5;241;43m.\u001b[39;49m\u001b[43mdriver\u001b[49m\u001b[43m)\u001b[49m\n\u001b[1;32m     41\u001b[0m     os\u001b[38;5;241m.\u001b[39mchmod(driver_path, \u001b[38;5;241m0o755\u001b[39m)\n\u001b[1;32m     42\u001b[0m     \u001b[38;5;28;01mreturn\u001b[39;00m driver_path\n",
      "File \u001b[0;32m~/anaconda3/envs/web-scraper/lib/python3.12/site-packages/webdriver_manager/core/manager.py:40\u001b[0m, in \u001b[0;36mDriverManager._get_driver_binary_path\u001b[0;34m(self, driver)\u001b[0m\n\u001b[1;32m     37\u001b[0m     \u001b[38;5;28;01mreturn\u001b[39;00m binary_path\n\u001b[1;32m     39\u001b[0m os_type \u001b[38;5;241m=\u001b[39m \u001b[38;5;28mself\u001b[39m\u001b[38;5;241m.\u001b[39mget_os_type()\n\u001b[0;32m---> 40\u001b[0m file \u001b[38;5;241m=\u001b[39m \u001b[38;5;28mself\u001b[39m\u001b[38;5;241m.\u001b[39m_download_manager\u001b[38;5;241m.\u001b[39mdownload_file(\u001b[43mdriver\u001b[49m\u001b[38;5;241;43m.\u001b[39;49m\u001b[43mget_driver_download_url\u001b[49m\u001b[43m(\u001b[49m\u001b[43mos_type\u001b[49m\u001b[43m)\u001b[49m)\n\u001b[1;32m     41\u001b[0m binary_path \u001b[38;5;241m=\u001b[39m \u001b[38;5;28mself\u001b[39m\u001b[38;5;241m.\u001b[39m_cache_manager\u001b[38;5;241m.\u001b[39msave_file_to_cache(driver, file)\n\u001b[1;32m     42\u001b[0m \u001b[38;5;28;01mreturn\u001b[39;00m binary_path\n",
      "File \u001b[0;32m~/anaconda3/envs/web-scraper/lib/python3.12/site-packages/webdriver_manager/drivers/chrome.py:32\u001b[0m, in \u001b[0;36mChromeDriver.get_driver_download_url\u001b[0;34m(self, os_type)\u001b[0m\n\u001b[1;32m     31\u001b[0m \u001b[38;5;28;01mdef\u001b[39;00m \u001b[38;5;21mget_driver_download_url\u001b[39m(\u001b[38;5;28mself\u001b[39m, os_type):\n\u001b[0;32m---> 32\u001b[0m     driver_version_to_download \u001b[38;5;241m=\u001b[39m \u001b[38;5;28;43mself\u001b[39;49m\u001b[38;5;241;43m.\u001b[39;49m\u001b[43mget_driver_version_to_download\u001b[49m\u001b[43m(\u001b[49m\u001b[43m)\u001b[49m\n\u001b[1;32m     33\u001b[0m     \u001b[38;5;66;03m# For Mac ARM CPUs after version 106.0.5249.61 the format of OS type changed\u001b[39;00m\n\u001b[1;32m     34\u001b[0m     \u001b[38;5;66;03m# to more unified \"mac_arm64\". For newer versions, it'll be \"mac_arm64\"\u001b[39;00m\n\u001b[1;32m     35\u001b[0m     \u001b[38;5;66;03m# by default, for lower versions we replace \"mac_arm64\" to old format - \"mac64_m1\".\u001b[39;00m\n\u001b[1;32m     36\u001b[0m     \u001b[38;5;28;01mif\u001b[39;00m version\u001b[38;5;241m.\u001b[39mparse(driver_version_to_download) \u001b[38;5;241m<\u001b[39m version\u001b[38;5;241m.\u001b[39mparse(\u001b[38;5;124m\"\u001b[39m\u001b[38;5;124m106.0.5249.61\u001b[39m\u001b[38;5;124m\"\u001b[39m):\n",
      "File \u001b[0;32m~/anaconda3/envs/web-scraper/lib/python3.12/site-packages/webdriver_manager/core/driver.py:48\u001b[0m, in \u001b[0;36mDriver.get_driver_version_to_download\u001b[0;34m(self)\u001b[0m\n\u001b[1;32m     45\u001b[0m \u001b[38;5;28;01mif\u001b[39;00m \u001b[38;5;28mself\u001b[39m\u001b[38;5;241m.\u001b[39m_driver_version_to_download:\n\u001b[1;32m     46\u001b[0m     \u001b[38;5;28;01mreturn\u001b[39;00m \u001b[38;5;28mself\u001b[39m\u001b[38;5;241m.\u001b[39m_driver_version_to_download\n\u001b[0;32m---> 48\u001b[0m \u001b[38;5;28;01mreturn\u001b[39;00m \u001b[38;5;28;43mself\u001b[39;49m\u001b[38;5;241;43m.\u001b[39;49m\u001b[43mget_latest_release_version\u001b[49m\u001b[43m(\u001b[49m\u001b[43m)\u001b[49m\n",
      "File \u001b[0;32m~/anaconda3/envs/web-scraper/lib/python3.12/site-packages/webdriver_manager/drivers/chrome.py:64\u001b[0m, in \u001b[0;36mChromeDriver.get_latest_release_version\u001b[0;34m(self)\u001b[0m\n\u001b[1;32m     62\u001b[0m     \u001b[38;5;28;01mreturn\u001b[39;00m determined_browser_version\n\u001b[1;32m     63\u001b[0m \u001b[38;5;66;03m# Remove the build version (the last segment) from determined_browser_version for version < 113\u001b[39;00m\n\u001b[0;32m---> 64\u001b[0m determined_browser_version \u001b[38;5;241m=\u001b[39m \u001b[38;5;124m\"\u001b[39m\u001b[38;5;124m.\u001b[39m\u001b[38;5;124m\"\u001b[39m\u001b[38;5;241m.\u001b[39mjoin(\u001b[43mdetermined_browser_version\u001b[49m\u001b[38;5;241;43m.\u001b[39;49m\u001b[43msplit\u001b[49m(\u001b[38;5;124m\"\u001b[39m\u001b[38;5;124m.\u001b[39m\u001b[38;5;124m\"\u001b[39m)[:\u001b[38;5;241m3\u001b[39m])\n\u001b[1;32m     65\u001b[0m latest_release_url \u001b[38;5;241m=\u001b[39m (\n\u001b[1;32m     66\u001b[0m     \u001b[38;5;28mself\u001b[39m\u001b[38;5;241m.\u001b[39m_latest_release_url\n\u001b[1;32m     67\u001b[0m     \u001b[38;5;28;01mif\u001b[39;00m (determined_browser_version \u001b[38;5;129;01mis\u001b[39;00m \u001b[38;5;28;01mNone\u001b[39;00m)\n\u001b[1;32m     68\u001b[0m     \u001b[38;5;28;01melse\u001b[39;00m \u001b[38;5;124mf\u001b[39m\u001b[38;5;124m\"\u001b[39m\u001b[38;5;132;01m{\u001b[39;00m\u001b[38;5;28mself\u001b[39m\u001b[38;5;241m.\u001b[39m_latest_release_url\u001b[38;5;132;01m}\u001b[39;00m\u001b[38;5;124m_\u001b[39m\u001b[38;5;132;01m{\u001b[39;00mdetermined_browser_version\u001b[38;5;132;01m}\u001b[39;00m\u001b[38;5;124m\"\u001b[39m\n\u001b[1;32m     69\u001b[0m )\n\u001b[1;32m     70\u001b[0m resp \u001b[38;5;241m=\u001b[39m \u001b[38;5;28mself\u001b[39m\u001b[38;5;241m.\u001b[39m_http_client\u001b[38;5;241m.\u001b[39mget(url\u001b[38;5;241m=\u001b[39mlatest_release_url)\n",
      "\u001b[0;31mAttributeError\u001b[0m: 'NoneType' object has no attribute 'split'"
     ]
    }
   ],
   "source": [
    "# selenium 4\n",
    "from selenium import webdriver\n",
    "from selenium.webdriver.chrome.service import Service as ChromiumService\n",
    "from webdriver_manager.chrome import ChromeDriverManager\n",
    "from webdriver_manager.core.os_manager import ChromeType\n",
    "\n",
    "driver = webdriver.Chrome(service=ChromiumService(ChromeDriverManager(chrome_type=ChromeType.CHROMIUM).install()))\n",
    "\n",
    "# driver = webdriver.Chrome()\n",
    "driver.get(\"https://www.google.com/\")\n",
    "driver.quit()"
   ]
  },
  {
   "cell_type": "code",
   "execution_count": 58,
   "metadata": {},
   "outputs": [
    {
     "name": "stdout",
     "output_type": "stream",
     "text": [
      "/residence/99447\n",
      "/residence/98767\n"
     ]
    }
   ],
   "source": [
    "import requests\n",
    "import json\n",
    "\n",
    "def get_listings(COMMUNES : list, CITIES : list, MIN_ROOMS : int, AVAILABLE_FROM : str, MAXIMUM_PRICE : int):\n",
    "        data = {\"pageSize\":16,\n",
    "        \"page\":0,\n",
    "        \"filters\":{\"Commune\":COMMUNES,\"City\":CITIES,\"Rent\":f\"[;{MAXIMUM_PRICE}]\",\"Rooms\":f\"[{MIN_ROOMS};]\",\"AvailableFrom\":f\"[;{AVAILABLE_FROM}T00:00:00Z]\",\"Type\":\"Residence\",\"TypeIndividualResidence\":\"true\"},\n",
    "        \"mixedResults\":False,\n",
    "        \"orderBy\":\"Created\",\n",
    "        \"orderDirection\":\"DESC\"}\n",
    "\n",
    "        search_url = \"https://www.findbolig.nu/api/search\"\n",
    "\n",
    "        with requests.Session() as s:\n",
    "                r = s.post(search_url, json=data)\n",
    "\n",
    "        if r.status_code == 200 and json.loads(r.text)[\"totalResults\"] > 0:\n",
    "                listings = json.loads(r.text)[\"results\"]\n",
    "                return listings\n",
    "\n",
    "        else: \n",
    "                return None\n",
    "\n",
    "\n",
    "COMMUNES = [\"Frederiksberg\"]\n",
    "CITIES = [\"København Ø\", \"København V\", \"København SV\", \"København K\", \"København N\"]\n",
    "MIN_ROOMS = 2\n",
    "AVAILABLE_FROM = \"2099-01-01\"\n",
    "MAXIMUM_PRICE = 12000\n",
    "\n",
    "listings = get_listings(COMMUNES,\n",
    "CITIES,\n",
    "MIN_ROOMS,\n",
    "AVAILABLE_FROM,\n",
    "MAXIMUM_PRICE)\n",
    "# print((listings))\n",
    "\n",
    "for listing in listings:\n",
    "        for key,  value in listing.items():\n",
    "                # print(f\"{key}: {value}\")\n",
    "                pass\n",
    "        print(listing[\"uri\"])"
   ]
  },
  {
   "cell_type": "code",
   "execution_count": 32,
   "metadata": {},
   "outputs": [
    {
     "data": {
      "text/plain": [
       "False"
      ]
     },
     "execution_count": 32,
     "metadata": {},
     "output_type": "execute_result"
    }
   ],
   "source": [
    "apt_data = {\"uri\" : listing[\"uri\"],\n",
    "            \"location\" : listing[\"freeStatuses\"][0][\"residenceAdvert\"][\"title\"],\n",
    "            \"id\" : listing[\"id\"],\n",
    "            \"rent\" : listing[\"rent\"],\n",
    "            \"aconto\" : listing[\"aconto\"],\n",
    "            \"rooms\" : listing[\"rooms\"],\n",
    "            \"area\" : listing[\"area\"]\n",
    "            }"
   ]
  }
 ],
 "metadata": {
  "kernelspec": {
   "display_name": "web-scraper",
   "language": "python",
   "name": "python3"
  },
  "language_info": {
   "codemirror_mode": {
    "name": "ipython",
    "version": 3
   },
   "file_extension": ".py",
   "mimetype": "text/x-python",
   "name": "python",
   "nbconvert_exporter": "python",
   "pygments_lexer": "ipython3",
   "version": "3.12.2"
  }
 },
 "nbformat": 4,
 "nbformat_minor": 2
}
